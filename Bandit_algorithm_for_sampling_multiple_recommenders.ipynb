{
  "nbformat": 4,
  "nbformat_minor": 0,
  "metadata": {
    "colab": {
      "name": "Bandit algorithm for sampling multiple recommenders.ipynb",
      "provenance": [],
      "machine_shape": "hm",
      "authorship_tag": "ABX9TyMHyX+tejEfwkbw3wwI6sOy",
      "include_colab_link": true
    },
    "kernelspec": {
      "name": "python3",
      "display_name": "Python 3"
    },
    "language_info": {
      "name": "python"
    },
    "accelerator": "GPU"
  },
  "cells": [
    {
      "cell_type": "markdown",
      "metadata": {
        "id": "view-in-github",
        "colab_type": "text"
      },
      "source": [
        "<a href=\"https://colab.research.google.com/github/ramyamahesh1126/Deep-Learning-Optional-Assignments/blob/Assignment1/Bandit_algorithm_for_sampling_multiple_recommenders.ipynb\" target=\"_parent\"><img src=\"https://colab.research.google.com/assets/colab-badge.svg\" alt=\"Open In Colab\"/></a>"
      ]
    },
    {
      "cell_type": "code",
      "execution_count": 1,
      "metadata": {
        "id": "KEHR2Ui-lo8O",
        "colab": {
          "base_uri": "https://localhost:8080/"
        },
        "outputId": "b03310b8-23d3-4554-da1b-69f7f6286843"
      },
      "outputs": [
        {
          "output_type": "stream",
          "name": "stdout",
          "text": [
            "Collecting tf-agents\n",
            "  Downloading tf_agents-0.12.1-py3-none-any.whl (1.3 MB)\n",
            "\u001b[?25l\r\u001b[K     |▎                               | 10 kB 37.2 MB/s eta 0:00:01\r\u001b[K     |▌                               | 20 kB 21.3 MB/s eta 0:00:01\r\u001b[K     |▊                               | 30 kB 16.8 MB/s eta 0:00:01\r\u001b[K     |█                               | 40 kB 15.2 MB/s eta 0:00:01\r\u001b[K     |█▎                              | 51 kB 10.6 MB/s eta 0:00:01\r\u001b[K     |█▌                              | 61 kB 12.4 MB/s eta 0:00:01\r\u001b[K     |█▊                              | 71 kB 12.3 MB/s eta 0:00:01\r\u001b[K     |██                              | 81 kB 11.4 MB/s eta 0:00:01\r\u001b[K     |██▎                             | 92 kB 12.6 MB/s eta 0:00:01\r\u001b[K     |██▌                             | 102 kB 13.0 MB/s eta 0:00:01\r\u001b[K     |██▊                             | 112 kB 13.0 MB/s eta 0:00:01\r\u001b[K     |███                             | 122 kB 13.0 MB/s eta 0:00:01\r\u001b[K     |███▎                            | 133 kB 13.0 MB/s eta 0:00:01\r\u001b[K     |███▌                            | 143 kB 13.0 MB/s eta 0:00:01\r\u001b[K     |███▊                            | 153 kB 13.0 MB/s eta 0:00:01\r\u001b[K     |████                            | 163 kB 13.0 MB/s eta 0:00:01\r\u001b[K     |████▎                           | 174 kB 13.0 MB/s eta 0:00:01\r\u001b[K     |████▌                           | 184 kB 13.0 MB/s eta 0:00:01\r\u001b[K     |████▊                           | 194 kB 13.0 MB/s eta 0:00:01\r\u001b[K     |█████                           | 204 kB 13.0 MB/s eta 0:00:01\r\u001b[K     |█████▎                          | 215 kB 13.0 MB/s eta 0:00:01\r\u001b[K     |█████▌                          | 225 kB 13.0 MB/s eta 0:00:01\r\u001b[K     |█████▊                          | 235 kB 13.0 MB/s eta 0:00:01\r\u001b[K     |██████                          | 245 kB 13.0 MB/s eta 0:00:01\r\u001b[K     |██████▎                         | 256 kB 13.0 MB/s eta 0:00:01\r\u001b[K     |██████▌                         | 266 kB 13.0 MB/s eta 0:00:01\r\u001b[K     |██████▊                         | 276 kB 13.0 MB/s eta 0:00:01\r\u001b[K     |███████                         | 286 kB 13.0 MB/s eta 0:00:01\r\u001b[K     |███████▎                        | 296 kB 13.0 MB/s eta 0:00:01\r\u001b[K     |███████▌                        | 307 kB 13.0 MB/s eta 0:00:01\r\u001b[K     |███████▊                        | 317 kB 13.0 MB/s eta 0:00:01\r\u001b[K     |████████                        | 327 kB 13.0 MB/s eta 0:00:01\r\u001b[K     |████████▎                       | 337 kB 13.0 MB/s eta 0:00:01\r\u001b[K     |████████▌                       | 348 kB 13.0 MB/s eta 0:00:01\r\u001b[K     |████████▊                       | 358 kB 13.0 MB/s eta 0:00:01\r\u001b[K     |█████████                       | 368 kB 13.0 MB/s eta 0:00:01\r\u001b[K     |█████████▎                      | 378 kB 13.0 MB/s eta 0:00:01\r\u001b[K     |█████████▌                      | 389 kB 13.0 MB/s eta 0:00:01\r\u001b[K     |█████████▊                      | 399 kB 13.0 MB/s eta 0:00:01\r\u001b[K     |██████████                      | 409 kB 13.0 MB/s eta 0:00:01\r\u001b[K     |██████████▎                     | 419 kB 13.0 MB/s eta 0:00:01\r\u001b[K     |██████████▌                     | 430 kB 13.0 MB/s eta 0:00:01\r\u001b[K     |██████████▊                     | 440 kB 13.0 MB/s eta 0:00:01\r\u001b[K     |███████████                     | 450 kB 13.0 MB/s eta 0:00:01\r\u001b[K     |███████████▎                    | 460 kB 13.0 MB/s eta 0:00:01\r\u001b[K     |███████████▌                    | 471 kB 13.0 MB/s eta 0:00:01\r\u001b[K     |███████████▊                    | 481 kB 13.0 MB/s eta 0:00:01\r\u001b[K     |████████████                    | 491 kB 13.0 MB/s eta 0:00:01\r\u001b[K     |████████████▎                   | 501 kB 13.0 MB/s eta 0:00:01\r\u001b[K     |████████████▌                   | 512 kB 13.0 MB/s eta 0:00:01\r\u001b[K     |████████████▊                   | 522 kB 13.0 MB/s eta 0:00:01\r\u001b[K     |█████████████                   | 532 kB 13.0 MB/s eta 0:00:01\r\u001b[K     |█████████████▎                  | 542 kB 13.0 MB/s eta 0:00:01\r\u001b[K     |█████████████▌                  | 552 kB 13.0 MB/s eta 0:00:01\r\u001b[K     |█████████████▉                  | 563 kB 13.0 MB/s eta 0:00:01\r\u001b[K     |██████████████                  | 573 kB 13.0 MB/s eta 0:00:01\r\u001b[K     |██████████████▎                 | 583 kB 13.0 MB/s eta 0:00:01\r\u001b[K     |██████████████▌                 | 593 kB 13.0 MB/s eta 0:00:01\r\u001b[K     |██████████████▉                 | 604 kB 13.0 MB/s eta 0:00:01\r\u001b[K     |███████████████                 | 614 kB 13.0 MB/s eta 0:00:01\r\u001b[K     |███████████████▎                | 624 kB 13.0 MB/s eta 0:00:01\r\u001b[K     |███████████████▌                | 634 kB 13.0 MB/s eta 0:00:01\r\u001b[K     |███████████████▉                | 645 kB 13.0 MB/s eta 0:00:01\r\u001b[K     |████████████████                | 655 kB 13.0 MB/s eta 0:00:01\r\u001b[K     |████████████████▎               | 665 kB 13.0 MB/s eta 0:00:01\r\u001b[K     |████████████████▌               | 675 kB 13.0 MB/s eta 0:00:01\r\u001b[K     |████████████████▉               | 686 kB 13.0 MB/s eta 0:00:01\r\u001b[K     |█████████████████               | 696 kB 13.0 MB/s eta 0:00:01\r\u001b[K     |█████████████████▎              | 706 kB 13.0 MB/s eta 0:00:01\r\u001b[K     |█████████████████▌              | 716 kB 13.0 MB/s eta 0:00:01\r\u001b[K     |█████████████████▉              | 727 kB 13.0 MB/s eta 0:00:01\r\u001b[K     |██████████████████              | 737 kB 13.0 MB/s eta 0:00:01\r\u001b[K     |██████████████████▎             | 747 kB 13.0 MB/s eta 0:00:01\r\u001b[K     |██████████████████▌             | 757 kB 13.0 MB/s eta 0:00:01\r\u001b[K     |██████████████████▉             | 768 kB 13.0 MB/s eta 0:00:01\r\u001b[K     |███████████████████             | 778 kB 13.0 MB/s eta 0:00:01\r\u001b[K     |███████████████████▎            | 788 kB 13.0 MB/s eta 0:00:01\r\u001b[K     |███████████████████▌            | 798 kB 13.0 MB/s eta 0:00:01\r\u001b[K     |███████████████████▉            | 808 kB 13.0 MB/s eta 0:00:01\r\u001b[K     |████████████████████            | 819 kB 13.0 MB/s eta 0:00:01\r\u001b[K     |████████████████████▎           | 829 kB 13.0 MB/s eta 0:00:01\r\u001b[K     |████████████████████▌           | 839 kB 13.0 MB/s eta 0:00:01\r\u001b[K     |████████████████████▉           | 849 kB 13.0 MB/s eta 0:00:01\r\u001b[K     |█████████████████████           | 860 kB 13.0 MB/s eta 0:00:01\r\u001b[K     |█████████████████████▎          | 870 kB 13.0 MB/s eta 0:00:01\r\u001b[K     |█████████████████████▌          | 880 kB 13.0 MB/s eta 0:00:01\r\u001b[K     |█████████████████████▉          | 890 kB 13.0 MB/s eta 0:00:01\r\u001b[K     |██████████████████████          | 901 kB 13.0 MB/s eta 0:00:01\r\u001b[K     |██████████████████████▎         | 911 kB 13.0 MB/s eta 0:00:01\r\u001b[K     |██████████████████████▌         | 921 kB 13.0 MB/s eta 0:00:01\r\u001b[K     |██████████████████████▉         | 931 kB 13.0 MB/s eta 0:00:01\r\u001b[K     |███████████████████████         | 942 kB 13.0 MB/s eta 0:00:01\r\u001b[K     |███████████████████████▎        | 952 kB 13.0 MB/s eta 0:00:01\r\u001b[K     |███████████████████████▌        | 962 kB 13.0 MB/s eta 0:00:01\r\u001b[K     |███████████████████████▉        | 972 kB 13.0 MB/s eta 0:00:01\r\u001b[K     |████████████████████████        | 983 kB 13.0 MB/s eta 0:00:01\r\u001b[K     |████████████████████████▎       | 993 kB 13.0 MB/s eta 0:00:01\r\u001b[K     |████████████████████████▌       | 1.0 MB 13.0 MB/s eta 0:00:01\r\u001b[K     |████████████████████████▉       | 1.0 MB 13.0 MB/s eta 0:00:01\r\u001b[K     |█████████████████████████       | 1.0 MB 13.0 MB/s eta 0:00:01\r\u001b[K     |█████████████████████████▎      | 1.0 MB 13.0 MB/s eta 0:00:01\r\u001b[K     |█████████████████████████▌      | 1.0 MB 13.0 MB/s eta 0:00:01\r\u001b[K     |█████████████████████████▉      | 1.1 MB 13.0 MB/s eta 0:00:01\r\u001b[K     |██████████████████████████      | 1.1 MB 13.0 MB/s eta 0:00:01\r\u001b[K     |██████████████████████████▎     | 1.1 MB 13.0 MB/s eta 0:00:01\r\u001b[K     |██████████████████████████▋     | 1.1 MB 13.0 MB/s eta 0:00:01\r\u001b[K     |██████████████████████████▉     | 1.1 MB 13.0 MB/s eta 0:00:01\r\u001b[K     |███████████████████████████     | 1.1 MB 13.0 MB/s eta 0:00:01\r\u001b[K     |███████████████████████████▎    | 1.1 MB 13.0 MB/s eta 0:00:01\r\u001b[K     |███████████████████████████▋    | 1.1 MB 13.0 MB/s eta 0:00:01\r\u001b[K     |███████████████████████████▉    | 1.1 MB 13.0 MB/s eta 0:00:01\r\u001b[K     |████████████████████████████    | 1.1 MB 13.0 MB/s eta 0:00:01\r\u001b[K     |████████████████████████████▎   | 1.2 MB 13.0 MB/s eta 0:00:01\r\u001b[K     |████████████████████████████▋   | 1.2 MB 13.0 MB/s eta 0:00:01\r\u001b[K     |████████████████████████████▉   | 1.2 MB 13.0 MB/s eta 0:00:01\r\u001b[K     |█████████████████████████████   | 1.2 MB 13.0 MB/s eta 0:00:01\r\u001b[K     |█████████████████████████████▎  | 1.2 MB 13.0 MB/s eta 0:00:01\r\u001b[K     |█████████████████████████████▋  | 1.2 MB 13.0 MB/s eta 0:00:01\r\u001b[K     |█████████████████████████████▉  | 1.2 MB 13.0 MB/s eta 0:00:01\r\u001b[K     |██████████████████████████████  | 1.2 MB 13.0 MB/s eta 0:00:01\r\u001b[K     |██████████████████████████████▎ | 1.2 MB 13.0 MB/s eta 0:00:01\r\u001b[K     |██████████████████████████████▋ | 1.2 MB 13.0 MB/s eta 0:00:01\r\u001b[K     |██████████████████████████████▉ | 1.3 MB 13.0 MB/s eta 0:00:01\r\u001b[K     |███████████████████████████████ | 1.3 MB 13.0 MB/s eta 0:00:01\r\u001b[K     |███████████████████████████████▎| 1.3 MB 13.0 MB/s eta 0:00:01\r\u001b[K     |███████████████████████████████▋| 1.3 MB 13.0 MB/s eta 0:00:01\r\u001b[K     |███████████████████████████████▉| 1.3 MB 13.0 MB/s eta 0:00:01\r\u001b[K     |████████████████████████████████| 1.3 MB 13.0 MB/s \n",
            "\u001b[?25hRequirement already satisfied: tensorflow-probability>=0.16.0 in /usr/local/lib/python3.7/dist-packages (from tf-agents) (0.16.0)\n",
            "Requirement already satisfied: absl-py>=0.6.1 in /usr/local/lib/python3.7/dist-packages (from tf-agents) (1.0.0)\n",
            "Requirement already satisfied: gym>=0.17.0 in /usr/local/lib/python3.7/dist-packages (from tf-agents) (0.17.3)\n",
            "Requirement already satisfied: pillow in /usr/local/lib/python3.7/dist-packages (from tf-agents) (7.1.2)\n",
            "Requirement already satisfied: six>=1.10.0 in /usr/local/lib/python3.7/dist-packages (from tf-agents) (1.15.0)\n",
            "Requirement already satisfied: cloudpickle>=1.3 in /usr/local/lib/python3.7/dist-packages (from tf-agents) (1.3.0)\n",
            "Requirement already satisfied: typing-extensions>=3.7.4.3 in /usr/local/lib/python3.7/dist-packages (from tf-agents) (4.2.0)\n",
            "Requirement already satisfied: numpy>=1.13.3 in /usr/local/lib/python3.7/dist-packages (from tf-agents) (1.21.6)\n",
            "Requirement already satisfied: gin-config>=0.4.0 in /usr/local/lib/python3.7/dist-packages (from tf-agents) (0.5.0)\n",
            "Requirement already satisfied: wrapt>=1.11.1 in /usr/local/lib/python3.7/dist-packages (from tf-agents) (1.14.0)\n",
            "Collecting pygame==2.1.0\n",
            "  Downloading pygame-2.1.0-cp37-cp37m-manylinux_2_17_x86_64.manylinux2014_x86_64.whl (18.3 MB)\n",
            "\u001b[K     |████████████████████████████████| 18.3 MB 73 kB/s \n",
            "\u001b[?25hRequirement already satisfied: protobuf>=3.11.3 in /usr/local/lib/python3.7/dist-packages (from tf-agents) (3.17.3)\n",
            "Requirement already satisfied: pyglet<=1.5.0,>=1.4.0 in /usr/local/lib/python3.7/dist-packages (from gym>=0.17.0->tf-agents) (1.5.0)\n",
            "Requirement already satisfied: scipy in /usr/local/lib/python3.7/dist-packages (from gym>=0.17.0->tf-agents) (1.4.1)\n",
            "Requirement already satisfied: future in /usr/local/lib/python3.7/dist-packages (from pyglet<=1.5.0,>=1.4.0->gym>=0.17.0->tf-agents) (0.16.0)\n",
            "Requirement already satisfied: decorator in /usr/local/lib/python3.7/dist-packages (from tensorflow-probability>=0.16.0->tf-agents) (4.4.2)\n",
            "Requirement already satisfied: dm-tree in /usr/local/lib/python3.7/dist-packages (from tensorflow-probability>=0.16.0->tf-agents) (0.1.7)\n",
            "Requirement already satisfied: gast>=0.3.2 in /usr/local/lib/python3.7/dist-packages (from tensorflow-probability>=0.16.0->tf-agents) (0.5.3)\n",
            "Installing collected packages: pygame, tf-agents\n",
            "Successfully installed pygame-2.1.0 tf-agents-0.12.1\n"
          ]
        }
      ],
      "source": [
        "!pip install tf-agents"
      ]
    },
    {
      "cell_type": "code",
      "execution_count": 2,
      "metadata": {
        "id": "3oCS94Z83Jo2"
      },
      "outputs": [],
      "source": [
        "import abc\n",
        "import numpy as np\n",
        "import tensorflow as tf\n",
        "\n",
        "from tf_agents.agents import tf_agent\n",
        "from tf_agents.drivers import driver\n",
        "from tf_agents.environments import py_environment\n",
        "from tf_agents.environments import tf_environment\n",
        "from tf_agents.environments import tf_py_environment\n",
        "from tf_agents.policies import tf_policy\n",
        "from tf_agents.specs import array_spec\n",
        "from tf_agents.specs import tensor_spec\n",
        "from tf_agents.trajectories import time_step as ts\n",
        "from tf_agents.trajectories import trajectory\n",
        "from tf_agents.trajectories import policy_step\n",
        "\n",
        "nest = tf.nest"
      ]
    },
    {
      "cell_type": "code",
      "execution_count": 3,
      "metadata": {
        "id": "TTaG2ZapQvHX"
      },
      "outputs": [],
      "source": [
        "class BanditPyEnvironment(py_environment.PyEnvironment):\n",
        "\n",
        "  def __init__(self, observation_spec, action_spec):\n",
        "    self._observation_spec = observation_spec\n",
        "    self._action_spec = action_spec\n",
        "    super(BanditPyEnvironment, self).__init__()\n",
        "\n",
        "  # Helper functions.\n",
        "  def action_spec(self):\n",
        "    return self._action_spec\n",
        "\n",
        "  def observation_spec(self):\n",
        "    return self._observation_spec\n",
        "\n",
        "  def _empty_observation(self):\n",
        "    return tf.nest.map_structure(lambda x: np.zeros(x.shape, x.dtype),\n",
        "                                 self.observation_spec())\n",
        "\n",
        "  # These two functions below should not be overridden by subclasses.\n",
        "  def _reset(self):\n",
        "    \"\"\"Returns a time step containing an observation.\"\"\"\n",
        "    return ts.restart(self._observe(), batch_size=self.batch_size)\n",
        "\n",
        "  def _step(self, action):\n",
        "    \"\"\"Returns a time step containing the reward for the action taken.\"\"\"\n",
        "    reward = self._apply_action(action)\n",
        "    return ts.termination(self._observe(), reward)\n",
        "\n",
        "  # These two functions below are to be implemented in subclasses.\n",
        "  @abc.abstractmethod\n",
        "  def _observe(self):\n",
        "    \"\"\"Returns an observation.\"\"\"\n",
        "\n",
        "  @abc.abstractmethod\n",
        "  def _apply_action(self, action):\n",
        "    \"\"\"Applies `action` to the Environment and returns the corresponding reward.\n",
        "    \"\"\""
      ]
    },
    {
      "cell_type": "code",
      "execution_count": 4,
      "metadata": {
        "id": "YV6DhsSi227-"
      },
      "outputs": [],
      "source": [
        "class SimplePyEnvironment(BanditPyEnvironment):\n",
        "\n",
        "  def __init__(self):\n",
        "    action_spec = array_spec.BoundedArraySpec(\n",
        "        shape=(), dtype=np.int32, minimum=0, maximum=2, name='action')\n",
        "    observation_spec = array_spec.BoundedArraySpec(\n",
        "        shape=(1,), dtype=np.int32, minimum=-2, maximum=2, name='observation')\n",
        "    super(SimplePyEnvironment, self).__init__(observation_spec, action_spec)\n",
        "\n",
        "  def _observe(self):\n",
        "    self._observation = np.random.randint(-2, 3, (1,), dtype='int32')\n",
        "    return self._observation\n",
        "\n",
        "  def _apply_action(self, action):\n",
        "    return action * self._observation"
      ]
    },
    {
      "cell_type": "code",
      "execution_count": 5,
      "metadata": {
        "id": "Eo_uwSz2gAKX",
        "colab": {
          "base_uri": "https://localhost:8080/"
        },
        "outputId": "ddd73288-1510-49bf-b30d-5abb7d2618d6"
      },
      "outputs": [
        {
          "output_type": "stream",
          "name": "stdout",
          "text": [
            "observation: 1\n",
            "action: 2\n",
            "reward: 2.000000\n"
          ]
        }
      ],
      "source": [
        "environment = SimplePyEnvironment()\n",
        "observation = environment.reset().observation\n",
        "print(\"observation: %d\" % observation)\n",
        "\n",
        "action = 2 #@param\n",
        "\n",
        "print(\"action: %d\" % action)\n",
        "reward = environment.step(action).reward\n",
        "print(\"reward: %f\" % reward)"
      ]
    },
    {
      "cell_type": "code",
      "execution_count": 6,
      "metadata": {
        "id": "IPPpwSi3EtWz"
      },
      "outputs": [],
      "source": [
        "tf_environment = tf_py_environment.TFPyEnvironment(environment)"
      ]
    },
    {
      "cell_type": "code",
      "execution_count": 7,
      "metadata": {
        "id": "VpMZlplNK5ND"
      },
      "outputs": [],
      "source": [
        "class SignPolicy(tf_policy.TFPolicy):\n",
        "  def __init__(self):\n",
        "    observation_spec = tensor_spec.BoundedTensorSpec(\n",
        "        shape=(1,), dtype=tf.int32, minimum=-2, maximum=2)\n",
        "    time_step_spec = ts.time_step_spec(observation_spec)\n",
        "\n",
        "    action_spec = tensor_spec.BoundedTensorSpec(\n",
        "        shape=(), dtype=tf.int32, minimum=0, maximum=2)\n",
        "\n",
        "    super(SignPolicy, self).__init__(time_step_spec=time_step_spec,\n",
        "                                     action_spec=action_spec)\n",
        "  def _distribution(self, time_step):\n",
        "    pass\n",
        "\n",
        "  def _variables(self):\n",
        "    return ()\n",
        "\n",
        "  def _action(self, time_step, policy_state, seed):\n",
        "    observation_sign = tf.cast(tf.sign(time_step.observation[0]), dtype=tf.int32)\n",
        "    action = observation_sign + 1\n",
        "    return policy_step.PolicyStep(action, policy_state)"
      ]
    },
    {
      "cell_type": "code",
      "execution_count": 8,
      "metadata": {
        "id": "Z0_5vMDCVZWT",
        "colab": {
          "base_uri": "https://localhost:8080/"
        },
        "outputId": "a7e3cfd7-3523-4bc3-e7cc-b6a3cbd306a4"
      },
      "outputs": [
        {
          "output_type": "stream",
          "name": "stdout",
          "text": [
            "Observation:\n",
            "tf.Tensor([[-1]], shape=(1, 1), dtype=int32)\n",
            "Action:\n",
            "tf.Tensor([0], shape=(1,), dtype=int32)\n",
            "Reward:\n",
            "tf.Tensor([[0.]], shape=(1, 1), dtype=float32)\n"
          ]
        }
      ],
      "source": [
        "sign_policy = SignPolicy()\n",
        "\n",
        "current_time_step = tf_environment.reset()\n",
        "print('Observation:')\n",
        "print (current_time_step.observation)\n",
        "action = sign_policy.action(current_time_step).action\n",
        "print('Action:')\n",
        "print (action)\n",
        "reward = tf_environment.step(action).reward\n",
        "print('Reward:')\n",
        "print(reward)"
      ]
    },
    {
      "cell_type": "code",
      "execution_count": 9,
      "metadata": {
        "id": "CiB935of-wVv",
        "colab": {
          "base_uri": "https://localhost:8080/"
        },
        "outputId": "90fc180a-0191-48b5-ddf2-239afb29c05f"
      },
      "outputs": [
        {
          "output_type": "stream",
          "name": "stdout",
          "text": [
            "Reward: \n",
            "tf.Tensor([[1.]], shape=(1, 1), dtype=float32)\n",
            "Next observation:\n",
            "tf.Tensor([[0]], shape=(1, 1), dtype=int32)\n"
          ]
        }
      ],
      "source": [
        "step = tf_environment.reset()\n",
        "action = 1\n",
        "next_step = tf_environment.step(action)\n",
        "reward = next_step.reward\n",
        "next_observation = next_step.observation\n",
        "print(\"Reward: \")\n",
        "print(reward)\n",
        "print(\"Next observation:\")\n",
        "print(next_observation)"
      ]
    },
    {
      "cell_type": "code",
      "execution_count": 10,
      "metadata": {
        "id": "fte7-Mr8O0QR",
        "colab": {
          "base_uri": "https://localhost:8080/"
        },
        "outputId": "75a6cfcb-87bd-4c49-aa09-2c8db29131af"
      },
      "outputs": [
        {
          "output_type": "stream",
          "name": "stdout",
          "text": [
            "reward sign:\n",
            "1\n"
          ]
        }
      ],
      "source": [
        "class TwoWayPyEnvironment(BanditPyEnvironment):\n",
        "\n",
        "  def __init__(self):\n",
        "    action_spec = array_spec.BoundedArraySpec(\n",
        "        shape=(), dtype=np.int32, minimum=0, maximum=2, name='action')\n",
        "    observation_spec = array_spec.BoundedArraySpec(\n",
        "        shape=(1,), dtype=np.int32, minimum=-2, maximum=2, name='observation')\n",
        "\n",
        "    # Flipping the sign with probability 1/2.\n",
        "    self._reward_sign = 2 * np.random.randint(2) - 1\n",
        "    print(\"reward sign:\")\n",
        "    print(self._reward_sign)\n",
        "\n",
        "    super(TwoWayPyEnvironment, self).__init__(observation_spec, action_spec)\n",
        "\n",
        "  def _observe(self):\n",
        "    self._observation = np.random.randint(-2, 3, (1,), dtype='int32')\n",
        "    return self._observation\n",
        "\n",
        "  def _apply_action(self, action):\n",
        "    return self._reward_sign * action * self._observation[0]\n",
        "\n",
        "two_way_tf_environment = tf_py_environment.TFPyEnvironment(TwoWayPyEnvironment())"
      ]
    },
    {
      "cell_type": "code",
      "execution_count": 11,
      "metadata": {
        "id": "Srm2jsGHVM8N"
      },
      "outputs": [],
      "source": [
        "class TwoWaySignPolicy(tf_policy.TFPolicy):\n",
        "  def __init__(self, situation):\n",
        "    observation_spec = tensor_spec.BoundedTensorSpec(\n",
        "        shape=(1,), dtype=tf.int32, minimum=-2, maximum=2)\n",
        "    action_spec = tensor_spec.BoundedTensorSpec(\n",
        "        shape=(), dtype=tf.int32, minimum=0, maximum=2)\n",
        "    time_step_spec = ts.time_step_spec(observation_spec)\n",
        "    self._situation = situation\n",
        "    super(TwoWaySignPolicy, self).__init__(time_step_spec=time_step_spec,\n",
        "                                           action_spec=action_spec)\n",
        "  def _distribution(self, time_step):\n",
        "    pass\n",
        "\n",
        "  def _variables(self):\n",
        "    return [self._situation]\n",
        "\n",
        "  def _action(self, time_step, policy_state, seed):\n",
        "    sign = tf.cast(tf.sign(time_step.observation[0, 0]), dtype=tf.int32)\n",
        "    def case_unknown_fn():\n",
        "      # Choose 1 so that we get information on the sign.\n",
        "      return tf.constant(1, shape=(1,))\n",
        "\n",
        "    # Choose 0 or 2, depending on the situation and the sign of the observation.\n",
        "    def case_normal_fn():\n",
        "      return tf.constant(sign + 1, shape=(1,))\n",
        "    def case_flipped_fn():\n",
        "      return tf.constant(1 - sign, shape=(1,))\n",
        "\n",
        "    cases = [(tf.equal(self._situation, 0), case_unknown_fn),\n",
        "             (tf.equal(self._situation, 1), case_normal_fn),\n",
        "             (tf.equal(self._situation, 2), case_flipped_fn)]\n",
        "    action = tf.case(cases, exclusive=True)\n",
        "    return policy_step.PolicyStep(action, policy_state)"
      ]
    },
    {
      "cell_type": "code",
      "execution_count": 12,
      "metadata": {
        "id": "7f-0W0cMbS_z"
      },
      "outputs": [],
      "source": [
        "class SignAgent(tf_agent.TFAgent):\n",
        "  def __init__(self):\n",
        "    self._situation = tf.Variable(0, dtype=tf.int32)\n",
        "    policy = TwoWaySignPolicy(self._situation)\n",
        "    time_step_spec = policy.time_step_spec\n",
        "    action_spec = policy.action_spec\n",
        "    super(SignAgent, self).__init__(time_step_spec=time_step_spec,\n",
        "                                    action_spec=action_spec,\n",
        "                                    policy=policy,\n",
        "                                    collect_policy=policy,\n",
        "                                    train_sequence_length=None)\n",
        "\n",
        "  def _initialize(self):\n",
        "    return tf.compat.v1.variables_initializer(self.variables)\n",
        "\n",
        "  def _train(self, experience, weights=None):\n",
        "    observation = experience.observation\n",
        "    action = experience.action\n",
        "    reward = experience.reward\n",
        "\n",
        "    # We only need to change the value of the situation variable if it is\n",
        "    # unknown (0) right now, and we can infer the situation only if the\n",
        "    # observation is not 0.\n",
        "    needs_action = tf.logical_and(tf.equal(self._situation, 0),\n",
        "                                  tf.not_equal(reward, 0))\n",
        "\n",
        "\n",
        "    def new_situation_fn():\n",
        "      \"\"\"This returns either 1 or 2, depending on the signs.\"\"\"\n",
        "      return (3 - tf.sign(tf.cast(observation[0, 0, 0], dtype=tf.int32) *\n",
        "                          tf.cast(action[0, 0], dtype=tf.int32) *\n",
        "                          tf.cast(reward[0, 0], dtype=tf.int32))) / 2\n",
        "\n",
        "    new_situation = tf.cond(needs_action,\n",
        "                            new_situation_fn,\n",
        "                            lambda: self._situation)\n",
        "    new_situation = tf.cast(new_situation, tf.int32)\n",
        "    tf.compat.v1.assign(self._situation, new_situation)\n",
        "    return tf_agent.LossInfo((), ())\n",
        "\n",
        "sign_agent = SignAgent()\n"
      ]
    },
    {
      "cell_type": "code",
      "execution_count": 13,
      "metadata": {
        "id": "gdSG1nv-HUJq"
      },
      "outputs": [],
      "source": [
        "# We need to add another dimension here because the agent expects the\n",
        "# trajectory of shape [batch_size, time, ...], but in this tutorial we assume\n",
        "# that both batch size and time are 1. Hence all the expand_dims.\n",
        "\n",
        "def trajectory_for_bandit(initial_step, action_step, final_step):\n",
        "  return trajectory.Trajectory(observation=tf.expand_dims(initial_step.observation, 0),\n",
        "                               action=tf.expand_dims(action_step.action, 0),\n",
        "                               policy_info=action_step.info,\n",
        "                               reward=tf.expand_dims(final_step.reward, 0),\n",
        "                               discount=tf.expand_dims(final_step.discount, 0),\n",
        "                               step_type=tf.expand_dims(initial_step.step_type, 0),\n",
        "                               next_step_type=tf.expand_dims(final_step.step_type, 0))\n"
      ]
    },
    {
      "cell_type": "code",
      "execution_count": 14,
      "metadata": {
        "id": "LPx43dZgoyKg",
        "colab": {
          "base_uri": "https://localhost:8080/"
        },
        "outputId": "06f97552-f17a-40d8-f77e-8d8b98295b47"
      },
      "outputs": [
        {
          "output_type": "stream",
          "name": "stdout",
          "text": [
            "Trajectory(\n",
            "{'action': <tf.Tensor: shape=(1, 1), dtype=int32, numpy=array([[1]], dtype=int32)>,\n",
            " 'discount': <tf.Tensor: shape=(1, 1), dtype=float32, numpy=array([[0.]], dtype=float32)>,\n",
            " 'next_step_type': <tf.Tensor: shape=(1, 1), dtype=int32, numpy=array([[2]], dtype=int32)>,\n",
            " 'observation': <tf.Tensor: shape=(1, 1, 1), dtype=int32, numpy=array([[[-1]]], dtype=int32)>,\n",
            " 'policy_info': (),\n",
            " 'reward': <tf.Tensor: shape=(1, 1), dtype=float32, numpy=array([[-1.]], dtype=float32)>,\n",
            " 'step_type': <tf.Tensor: shape=(1, 1), dtype=int32, numpy=array([[0]], dtype=int32)>})\n",
            "Trajectory(\n",
            "{'action': <tf.Tensor: shape=(1, 1), dtype=int32, numpy=array([[0]], dtype=int32)>,\n",
            " 'discount': <tf.Tensor: shape=(1, 1), dtype=float32, numpy=array([[0.]], dtype=float32)>,\n",
            " 'next_step_type': <tf.Tensor: shape=(1, 1), dtype=int32, numpy=array([[2]], dtype=int32)>,\n",
            " 'observation': <tf.Tensor: shape=(1, 1, 1), dtype=int32, numpy=array([[[-1]]], dtype=int32)>,\n",
            " 'policy_info': (),\n",
            " 'reward': <tf.Tensor: shape=(1, 1), dtype=float32, numpy=array([[0.]], dtype=float32)>,\n",
            " 'step_type': <tf.Tensor: shape=(1, 1), dtype=int32, numpy=array([[2]], dtype=int32)>})\n",
            "Trajectory(\n",
            "{'action': <tf.Tensor: shape=(1, 1), dtype=int32, numpy=array([[0]], dtype=int32)>,\n",
            " 'discount': <tf.Tensor: shape=(1, 1), dtype=float32, numpy=array([[0.]], dtype=float32)>,\n",
            " 'next_step_type': <tf.Tensor: shape=(1, 1), dtype=int32, numpy=array([[2]], dtype=int32)>,\n",
            " 'observation': <tf.Tensor: shape=(1, 1, 1), dtype=int32, numpy=array([[[-2]]], dtype=int32)>,\n",
            " 'policy_info': (),\n",
            " 'reward': <tf.Tensor: shape=(1, 1), dtype=float32, numpy=array([[0.]], dtype=float32)>,\n",
            " 'step_type': <tf.Tensor: shape=(1, 1), dtype=int32, numpy=array([[2]], dtype=int32)>})\n",
            "Trajectory(\n",
            "{'action': <tf.Tensor: shape=(1, 1), dtype=int32, numpy=array([[2]], dtype=int32)>,\n",
            " 'discount': <tf.Tensor: shape=(1, 1), dtype=float32, numpy=array([[0.]], dtype=float32)>,\n",
            " 'next_step_type': <tf.Tensor: shape=(1, 1), dtype=int32, numpy=array([[2]], dtype=int32)>,\n",
            " 'observation': <tf.Tensor: shape=(1, 1, 1), dtype=int32, numpy=array([[[1]]], dtype=int32)>,\n",
            " 'policy_info': (),\n",
            " 'reward': <tf.Tensor: shape=(1, 1), dtype=float32, numpy=array([[2.]], dtype=float32)>,\n",
            " 'step_type': <tf.Tensor: shape=(1, 1), dtype=int32, numpy=array([[2]], dtype=int32)>})\n",
            "Trajectory(\n",
            "{'action': <tf.Tensor: shape=(1, 1), dtype=int32, numpy=array([[0]], dtype=int32)>,\n",
            " 'discount': <tf.Tensor: shape=(1, 1), dtype=float32, numpy=array([[0.]], dtype=float32)>,\n",
            " 'next_step_type': <tf.Tensor: shape=(1, 1), dtype=int32, numpy=array([[2]], dtype=int32)>,\n",
            " 'observation': <tf.Tensor: shape=(1, 1, 1), dtype=int32, numpy=array([[[-2]]], dtype=int32)>,\n",
            " 'policy_info': (),\n",
            " 'reward': <tf.Tensor: shape=(1, 1), dtype=float32, numpy=array([[0.]], dtype=float32)>,\n",
            " 'step_type': <tf.Tensor: shape=(1, 1), dtype=int32, numpy=array([[2]], dtype=int32)>})\n",
            "Trajectory(\n",
            "{'action': <tf.Tensor: shape=(1, 1), dtype=int32, numpy=array([[0]], dtype=int32)>,\n",
            " 'discount': <tf.Tensor: shape=(1, 1), dtype=float32, numpy=array([[0.]], dtype=float32)>,\n",
            " 'next_step_type': <tf.Tensor: shape=(1, 1), dtype=int32, numpy=array([[2]], dtype=int32)>,\n",
            " 'observation': <tf.Tensor: shape=(1, 1, 1), dtype=int32, numpy=array([[[-1]]], dtype=int32)>,\n",
            " 'policy_info': (),\n",
            " 'reward': <tf.Tensor: shape=(1, 1), dtype=float32, numpy=array([[0.]], dtype=float32)>,\n",
            " 'step_type': <tf.Tensor: shape=(1, 1), dtype=int32, numpy=array([[2]], dtype=int32)>})\n",
            "Trajectory(\n",
            "{'action': <tf.Tensor: shape=(1, 1), dtype=int32, numpy=array([[0]], dtype=int32)>,\n",
            " 'discount': <tf.Tensor: shape=(1, 1), dtype=float32, numpy=array([[0.]], dtype=float32)>,\n",
            " 'next_step_type': <tf.Tensor: shape=(1, 1), dtype=int32, numpy=array([[2]], dtype=int32)>,\n",
            " 'observation': <tf.Tensor: shape=(1, 1, 1), dtype=int32, numpy=array([[[-2]]], dtype=int32)>,\n",
            " 'policy_info': (),\n",
            " 'reward': <tf.Tensor: shape=(1, 1), dtype=float32, numpy=array([[0.]], dtype=float32)>,\n",
            " 'step_type': <tf.Tensor: shape=(1, 1), dtype=int32, numpy=array([[2]], dtype=int32)>})\n",
            "Trajectory(\n",
            "{'action': <tf.Tensor: shape=(1, 1), dtype=int32, numpy=array([[0]], dtype=int32)>,\n",
            " 'discount': <tf.Tensor: shape=(1, 1), dtype=float32, numpy=array([[0.]], dtype=float32)>,\n",
            " 'next_step_type': <tf.Tensor: shape=(1, 1), dtype=int32, numpy=array([[2]], dtype=int32)>,\n",
            " 'observation': <tf.Tensor: shape=(1, 1, 1), dtype=int32, numpy=array([[[-2]]], dtype=int32)>,\n",
            " 'policy_info': (),\n",
            " 'reward': <tf.Tensor: shape=(1, 1), dtype=float32, numpy=array([[0.]], dtype=float32)>,\n",
            " 'step_type': <tf.Tensor: shape=(1, 1), dtype=int32, numpy=array([[2]], dtype=int32)>})\n",
            "Trajectory(\n",
            "{'action': <tf.Tensor: shape=(1, 1), dtype=int32, numpy=array([[1]], dtype=int32)>,\n",
            " 'discount': <tf.Tensor: shape=(1, 1), dtype=float32, numpy=array([[0.]], dtype=float32)>,\n",
            " 'next_step_type': <tf.Tensor: shape=(1, 1), dtype=int32, numpy=array([[2]], dtype=int32)>,\n",
            " 'observation': <tf.Tensor: shape=(1, 1, 1), dtype=int32, numpy=array([[[0]]], dtype=int32)>,\n",
            " 'policy_info': (),\n",
            " 'reward': <tf.Tensor: shape=(1, 1), dtype=float32, numpy=array([[0.]], dtype=float32)>,\n",
            " 'step_type': <tf.Tensor: shape=(1, 1), dtype=int32, numpy=array([[2]], dtype=int32)>})\n",
            "Trajectory(\n",
            "{'action': <tf.Tensor: shape=(1, 1), dtype=int32, numpy=array([[0]], dtype=int32)>,\n",
            " 'discount': <tf.Tensor: shape=(1, 1), dtype=float32, numpy=array([[0.]], dtype=float32)>,\n",
            " 'next_step_type': <tf.Tensor: shape=(1, 1), dtype=int32, numpy=array([[2]], dtype=int32)>,\n",
            " 'observation': <tf.Tensor: shape=(1, 1, 1), dtype=int32, numpy=array([[[-1]]], dtype=int32)>,\n",
            " 'policy_info': (),\n",
            " 'reward': <tf.Tensor: shape=(1, 1), dtype=float32, numpy=array([[0.]], dtype=float32)>,\n",
            " 'step_type': <tf.Tensor: shape=(1, 1), dtype=int32, numpy=array([[2]], dtype=int32)>})\n"
          ]
        }
      ],
      "source": [
        "step = two_way_tf_environment.reset()\n",
        "for _ in range(10):\n",
        "  action_step = sign_agent.collect_policy.action(step)\n",
        "  next_step = two_way_tf_environment.step(action_step.action)\n",
        "  experience = trajectory_for_bandit(step, action_step, next_step)\n",
        "  print(experience)\n",
        "  sign_agent.train(experience)\n",
        "  step = next_step\n"
      ]
    },
    {
      "cell_type": "code",
      "execution_count": 15,
      "metadata": {
        "id": "oEnXUwd-nZKl"
      },
      "outputs": [],
      "source": [
        "# Imports for example.\n",
        "from tf_agents.bandits.agents import lin_ucb_agent\n",
        "from tf_agents.bandits.environments import stationary_stochastic_py_environment as sspe\n",
        "from tf_agents.bandits.metrics import tf_metrics\n",
        "from tf_agents.drivers import dynamic_step_driver\n",
        "from tf_agents.replay_buffers import tf_uniform_replay_buffer\n",
        "\n",
        "import matplotlib.pyplot as plt"
      ]
    },
    {
      "cell_type": "code",
      "execution_count": 16,
      "metadata": {
        "id": "gVa0hmQrpe6w"
      },
      "outputs": [],
      "source": [
        "batch_size = 2 # @param\n",
        "arm0_param = [-3, 0, 1, -2] # @param\n",
        "arm1_param = [1, -2, 3, 0] # @param\n",
        "arm2_param = [0, 0, 1, 1] # @param\n",
        "def context_sampling_fn(batch_size):\n",
        "  \"\"\"Contexts from [-10, 10]^4.\"\"\"\n",
        "  def _context_sampling_fn():\n",
        "    return np.random.randint(-10, 10, [batch_size, 4]).astype(np.float32)\n",
        "  return _context_sampling_fn\n",
        "\n",
        "class LinearNormalReward(object):\n",
        "  \"\"\"A class that acts as linear reward function when called.\"\"\"\n",
        "  def __init__(self, theta, sigma):\n",
        "    self.theta = theta\n",
        "    self.sigma = sigma\n",
        "  def __call__(self, x):\n",
        "    mu = np.dot(x, self.theta)\n",
        "    return np.random.normal(mu, self.sigma)\n",
        "\n",
        "arm0_reward_fn = LinearNormalReward(arm0_param, 1)\n",
        "arm1_reward_fn = LinearNormalReward(arm1_param, 1)\n",
        "arm2_reward_fn = LinearNormalReward(arm2_param, 1)\n",
        "\n",
        "environment = tf_py_environment.TFPyEnvironment(\n",
        "    sspe.StationaryStochasticPyEnvironment(\n",
        "        context_sampling_fn(batch_size),\n",
        "        [arm0_reward_fn, arm1_reward_fn, arm2_reward_fn],\n",
        "        batch_size=batch_size))\n"
      ]
    },
    {
      "cell_type": "code",
      "execution_count": 17,
      "metadata": {
        "id": "p4XmGgIusj-K"
      },
      "outputs": [],
      "source": [
        "observation_spec = tensor_spec.TensorSpec([4], tf.float32)\n",
        "time_step_spec = ts.time_step_spec(observation_spec)\n",
        "action_spec = tensor_spec.BoundedTensorSpec(\n",
        "    dtype=tf.int32, shape=(), minimum=0, maximum=2)\n",
        "\n",
        "agent = lin_ucb_agent.LinearUCBAgent(time_step_spec=time_step_spec,\n",
        "                                     action_spec=action_spec)"
      ]
    },
    {
      "cell_type": "code",
      "execution_count": 18,
      "metadata": {
        "id": "cX7MiFhNu3_L"
      },
      "outputs": [],
      "source": [
        "def compute_optimal_reward(observation):\n",
        "  expected_reward_for_arms = [\n",
        "      tf.linalg.matvec(observation, tf.cast(arm0_param, dtype=tf.float32)),\n",
        "      tf.linalg.matvec(observation, tf.cast(arm1_param, dtype=tf.float32)),\n",
        "      tf.linalg.matvec(observation, tf.cast(arm2_param, dtype=tf.float32))]\n",
        "  optimal_action_reward = tf.reduce_max(expected_reward_for_arms, axis=0)\n",
        "  return optimal_action_reward\n",
        "\n",
        "regret_metric = tf_metrics.RegretMetric(compute_optimal_reward)"
      ]
    },
    {
      "cell_type": "code",
      "execution_count": 19,
      "metadata": {
        "id": "4Ggn45g62DWx",
        "colab": {
          "base_uri": "https://localhost:8080/",
          "height": 370
        },
        "outputId": "14fafeae-e761-487f-bf70-6313cfbb2ba7"
      },
      "outputs": [
        {
          "output_type": "stream",
          "name": "stdout",
          "text": [
            "WARNING:tensorflow:From <ipython-input-19-0cbf469acdfe>:21: ReplayBuffer.gather_all (from tf_agents.replay_buffers.replay_buffer) is deprecated and will be removed in a future version.\n",
            "Instructions for updating:\n",
            "Use `as_dataset(..., single_deterministic_pass=True)` instead.\n"
          ]
        },
        {
          "output_type": "execute_result",
          "data": {
            "text/plain": [
              "Text(0.5, 0, 'Number of Iterations')"
            ]
          },
          "metadata": {},
          "execution_count": 19
        },
        {
          "output_type": "display_data",
          "data": {
            "text/plain": [
              "<Figure size 432x288 with 1 Axes>"
            ],
            "image/png": "[encoded data removed]"
          },
          "metadata": {
            "needs_background": "light"
          }
        }
      ],
      "source": [
        "num_iterations = 90 # @param\n",
        "steps_per_loop = 1 # @param\n",
        "\n",
        "replay_buffer = tf_uniform_replay_buffer.TFUniformReplayBuffer(\n",
        "    data_spec=agent.policy.trajectory_spec,\n",
        "    batch_size=batch_size,\n",
        "    max_length=steps_per_loop)\n",
        "\n",
        "observers = [replay_buffer.add_batch, regret_metric]\n",
        "\n",
        "driver = dynamic_step_driver.DynamicStepDriver(\n",
        "    env=environment,\n",
        "    policy=agent.collect_policy,\n",
        "    num_steps=steps_per_loop * batch_size,\n",
        "    observers=observers)\n",
        "\n",
        "regret_values = []\n",
        "\n",
        "for _ in range(num_iterations):\n",
        "  driver.run()\n",
        "  loss_info = agent.train(replay_buffer.gather_all())\n",
        "  replay_buffer.clear()\n",
        "  regret_values.append(regret_metric.result())\n",
        "\n",
        "plt.plot(regret_values)\n",
        "plt.ylabel('Average Regret')\n",
        "plt.xlabel('Number of Iterations')"
      ]
    }
  ]
}